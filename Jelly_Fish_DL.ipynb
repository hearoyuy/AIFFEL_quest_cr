{
  "nbformat": 4,
  "nbformat_minor": 0,
  "metadata": {
    "colab": {
      "provenance": [],
      "gpuType": "T4",
      "include_colab_link": true
    },
    "kernelspec": {
      "name": "python3",
      "display_name": "Python 3"
    },
    "language_info": {
      "name": "python"
    },
    "accelerator": "GPU"
  },
  "cells": [
    {
      "cell_type": "markdown",
      "metadata": {
        "id": "view-in-github",
        "colab_type": "text"
      },
      "source": [
        "<a href=\"https://colab.research.google.com/github/hearoyuy/AIFFEL_quest_cr/blob/master/Jelly_Fish_DL.ipynb\" target=\"_parent\"><img src=\"https://colab.research.google.com/assets/colab-badge.svg\" alt=\"Open In Colab\"/></a>"
      ]
    },
    {
      "cell_type": "code",
      "execution_count": null,
      "metadata": {
        "colab": {
          "base_uri": "https://localhost:8080/"
        },
        "id": "uPDvSPqCB3Fh",
        "outputId": "92b3a8df-7349-47cd-935a-1fea93714cb9"
      },
      "outputs": [
        {
          "output_type": "stream",
          "name": "stdout",
          "text": [
            "Drive already mounted at /content/drive; to attempt to forcibly remount, call drive.mount(\"/content/drive\", force_remount=True).\n"
          ]
        }
      ],
      "source": [
        "from google.colab import drive\n",
        "drive.mount('/content/drive')"
      ]
    },
    {
      "cell_type": "code",
      "source": [
        "import os\n",
        "import tensorflow as tf\n",
        "from tensorflow.keras.preprocessing.image import ImageDataGenerator\n",
        "from tensorflow.keras import layers, models\n",
        "import datetime\n",
        "from PIL import Image\n",
        "from tqdm import tqdm"
      ],
      "metadata": {
        "id": "5ZWPA6uTCPSM"
      },
      "execution_count": null,
      "outputs": []
    },
    {
      "cell_type": "code",
      "source": [
        "train_dir = \"/content/drive/MyDrive/Jellyfish/Train_Test_Valid/Train/\"\n",
        "valid_dir = \"/content/drive/MyDrive/Jellyfish/Train_Test_Valid/valid/\"\n",
        "test_dir = \"/content/drive/MyDrive/Jellyfish/Train_Test_Valid/test/\""
      ],
      "metadata": {
        "id": "e90V7Gh8FbKV"
      },
      "execution_count": null,
      "outputs": []
    },
    {
      "cell_type": "code",
      "source": [
        "import os\n",
        "\n",
        "print(\"📂 Train 폴더:\", os.listdir(train_dir))\n",
        "print(\"📂 Valid 폴더:\", os.listdir(valid_dir))\n",
        "print(\"📂 Test 폴더:\", os.listdir(test_dir))"
      ],
      "metadata": {
        "colab": {
          "base_uri": "https://localhost:8080/"
        },
        "id": "XXe-Kf1rGTaq",
        "outputId": "0e69a1b7-c82f-4ebc-8f26-293857d479e1"
      },
      "execution_count": null,
      "outputs": [
        {
          "output_type": "stream",
          "name": "stdout",
          "text": [
            "📂 Train 폴더: ['compass_jellyfish', 'Moon_jellyfish', 'mauve_stinger_jellyfish', 'blue_jellyfish', 'lions_mane_jellyfish', 'barrel_jellyfish']\n",
            "📂 Valid 폴더: ['compass_jellyfish', 'Moon_jellyfish', 'mauve_stinger_jellyfish', 'blue_jellyfish', 'lions_mane_jellyfish', 'barrel_jellyfish']\n",
            "📂 Test 폴더: ['compass_jellyfish', 'Moon_jellyfish', 'mauve_stinger_jellyfish', 'blue_jellyfish', 'lions_mane_jellyfish', 'barrel_jellyfish']\n"
          ]
        }
      ]
    },
    {
      "cell_type": "code",
      "source": [
        "import os\n",
        "from PIL import Image\n",
        "from tqdm import tqdm\n",
        "\n",
        "# 변환된 데이터 저장 폴더 설정\n",
        "output_base_dir = \"/content/drive/MyDrive/Jellyfish/Jellyfish_Processed\"\n",
        "output_train_dir = os.path.join(output_base_dir, \"Train\")\n",
        "output_valid_dir = os.path.join(output_base_dir, \"valid\")\n",
        "output_test_dir = os.path.join(output_base_dir, \"test\")\n",
        "\n",
        "# 변환할 크기 설정\n",
        "target_size = (224, 224)\n",
        "\n",
        "# 변환된 데이터 저장 폴더 생성\n",
        "for path in [output_train_dir, output_valid_dir, output_test_dir]:\n",
        "    os.makedirs(path, exist_ok=True)\n",
        "\n",
        "# Train, Valid, Test 각각 변환 수행\n",
        "datasets = {\n",
        "    \"Train\": (train_dir, output_train_dir),\n",
        "    \"valid\": (valid_dir, output_valid_dir),\n",
        "    \"test\": (test_dir, output_test_dir),\n",
        "}\n",
        "\n",
        "for dataset_name, (input_dir, output_dir) in datasets.items():\n",
        "    print(f\"🚀 Processing {dataset_name} dataset...\")\n",
        "\n",
        "    for cls in tqdm(os.listdir(input_dir), desc=f\"Processing {dataset_name}\"):\n",
        "        class_path = os.path.join(input_dir, cls)\n",
        "        output_class_path = os.path.join(output_dir, cls)\n",
        "\n",
        "        if os.path.isdir(class_path):  # 폴더인지 확인\n",
        "            os.makedirs(output_class_path, exist_ok=True)\n",
        "\n",
        "            for img_name in os.listdir(class_path):\n",
        "                img_path = os.path.join(class_path, img_name)\n",
        "                output_img_path = os.path.join(output_class_path, img_name)\n",
        "\n",
        "                try:\n",
        "                    img = Image.open(img_path).convert(\"RGB\")  # RGB 변환\n",
        "                    if img.size != target_size:\n",
        "                        img = img.resize(target_size, Image.LANCZOS)  # 224x224 변환\n",
        "                    img.save(output_img_path, \"JPEG\")  # 변환된 이미지 저장\n",
        "                except Exception as e:\n",
        "                    print(f\"⚠️ 변환 실패: {img_name} - {e}\")\n",
        "\n",
        "    print(f\"✅ {dataset_name} 데이터 224x224 변환 완료!\\n\")"
      ],
      "metadata": {
        "colab": {
          "base_uri": "https://localhost:8080/"
        },
        "id": "aoIp0F1_Gugm",
        "outputId": "fb476d39-3695-4933-dda5-ea00f6d09670"
      },
      "execution_count": null,
      "outputs": [
        {
          "output_type": "stream",
          "name": "stdout",
          "text": [
            "🚀 Processing Train dataset...\n"
          ]
        },
        {
          "output_type": "stream",
          "name": "stderr",
          "text": [
            "Processing Train: 100%|██████████| 6/6 [00:12<00:00,  2.06s/it]\n"
          ]
        },
        {
          "output_type": "stream",
          "name": "stdout",
          "text": [
            "✅ Train 데이터 224x224 변환 완료!\n",
            "\n",
            "🚀 Processing valid dataset...\n"
          ]
        },
        {
          "output_type": "stream",
          "name": "stderr",
          "text": [
            "Processing valid: 100%|██████████| 6/6 [00:00<00:00, 13.43it/s]\n"
          ]
        },
        {
          "output_type": "stream",
          "name": "stdout",
          "text": [
            "✅ valid 데이터 224x224 변환 완료!\n",
            "\n",
            "🚀 Processing test dataset...\n"
          ]
        },
        {
          "output_type": "stream",
          "name": "stderr",
          "text": [
            "Processing test: 100%|██████████| 6/6 [00:00<00:00, 11.44it/s]"
          ]
        },
        {
          "output_type": "stream",
          "name": "stdout",
          "text": [
            "✅ test 데이터 224x224 변환 완료!\n",
            "\n"
          ]
        },
        {
          "output_type": "stream",
          "name": "stderr",
          "text": [
            "\n"
          ]
        }
      ]
    },
    {
      "cell_type": "code",
      "source": [
        "import os\n",
        "from PIL import Image\n",
        "from tqdm import tqdm\n",
        "\n",
        "# 변환할 데이터 경로 설정 (224x224 변환된 데이터 기준)\n",
        "processed_base_dir = \"/content/drive/MyDrive/Jellyfish/Jellyfish_Processed\"\n",
        "train_dir = os.path.join(processed_base_dir, \"Train\")\n",
        "valid_dir = os.path.join(processed_base_dir, \"valid\")\n",
        "test_dir = os.path.join(processed_base_dir, \"test\")\n",
        "\n",
        "# 확장자를 변환할 데이터셋\n",
        "datasets = {\n",
        "    \"Train\": train_dir,\n",
        "    \"valid\": valid_dir,\n",
        "    \"test\": test_dir,\n",
        "}\n",
        "\n",
        "# 변환 실행\n",
        "for dataset_name, dataset_dir in datasets.items():\n",
        "    print(f\"🚀 Converting {dataset_name} dataset to .jpg...\")\n",
        "\n",
        "    for cls in tqdm(os.listdir(dataset_dir), desc=f\"Converting {dataset_name}\"):\n",
        "        class_path = os.path.join(dataset_dir, cls)\n",
        "\n",
        "        if os.path.isdir(class_path):\n",
        "            for img_name in os.listdir(class_path):\n",
        "                img_path = os.path.join(class_path, img_name)\n",
        "                ext = os.path.splitext(img_name)[-1].lower()  # 확장자 추출\n",
        "\n",
        "                # ✅ .jpg(소문자)만 유지, 나머지는 변환\n",
        "                if ext not in [\".jpg\"]:\n",
        "                    output_img_path = os.path.splitext(img_path)[0] + \".jpg\"\n",
        "\n",
        "                    try:\n",
        "                        img = Image.open(img_path).convert(\"RGB\")  # RGB 변환\n",
        "                        img.save(output_img_path, \"JPEG\")  # .jpg로 저장\n",
        "                        os.remove(img_path)  # 원본 파일 삭제\n",
        "                    except Exception as e:\n",
        "                        print(f\"⚠️ 변환 실패: {img_name} - {e}\")\n",
        "\n",
        "    print(f\"✅ {dataset_name} 데이터 확장자 .jpg 변환 완료!\\n\")"
      ],
      "metadata": {
        "colab": {
          "base_uri": "https://localhost:8080/"
        },
        "id": "p8PxHuGCJnQT",
        "outputId": "1322189f-abba-47dd-a498-9dded025e121"
      },
      "execution_count": null,
      "outputs": [
        {
          "output_type": "stream",
          "name": "stdout",
          "text": [
            "🚀 Converting Train dataset to .jpg...\n"
          ]
        },
        {
          "output_type": "stream",
          "name": "stderr",
          "text": [
            "Converting Train: 100%|██████████| 6/6 [00:00<00:00,  6.09it/s]\n"
          ]
        },
        {
          "output_type": "stream",
          "name": "stdout",
          "text": [
            "✅ Train 데이터 확장자 .jpg 변환 완료!\n",
            "\n",
            "🚀 Converting valid dataset to .jpg...\n"
          ]
        },
        {
          "output_type": "stream",
          "name": "stderr",
          "text": [
            "Converting valid: 100%|██████████| 6/6 [00:00<00:00, 33.39it/s]\n"
          ]
        },
        {
          "output_type": "stream",
          "name": "stdout",
          "text": [
            "✅ valid 데이터 확장자 .jpg 변환 완료!\n",
            "\n",
            "🚀 Converting test dataset to .jpg...\n"
          ]
        },
        {
          "output_type": "stream",
          "name": "stderr",
          "text": [
            "Converting test: 100%|██████████| 6/6 [00:00<00:00, 102.83it/s]"
          ]
        },
        {
          "output_type": "stream",
          "name": "stdout",
          "text": [
            "✅ test 데이터 확장자 .jpg 변환 완료!\n",
            "\n"
          ]
        },
        {
          "output_type": "stream",
          "name": "stderr",
          "text": [
            "\n"
          ]
        }
      ]
    },
    {
      "cell_type": "code",
      "source": [
        "import tensorflow as tf\n",
        "\n",
        "gpus = tf.config.experimental.list_physical_devices('GPU')\n",
        "if gpus:\n",
        "    try:\n",
        "        for gpu in gpus:\n",
        "            tf.config.experimental.set_memory_growth(gpu, True)  # GPU 메모리 동적 할당\n",
        "        print(\"✅ GPU 메모리 제한 설정 완료!\")\n",
        "    except RuntimeError as e:\n",
        "        print(f\"❌ GPU 설정 중 오류 발생: {e}\")"
      ],
      "metadata": {
        "colab": {
          "base_uri": "https://localhost:8080/"
        },
        "id": "-yRtIiavbwZ5",
        "outputId": "f12c6081-5e44-424c-9e6a-cbbcbb351498"
      },
      "execution_count": null,
      "outputs": [
        {
          "output_type": "stream",
          "name": "stdout",
          "text": [
            "✅ GPU 메모리 제한 설정 완료!\n"
          ]
        }
      ]
    },
    {
      "cell_type": "code",
      "source": [
        "from tensorflow.keras.preprocessing.image import ImageDataGenerator\n",
        "\n",
        "# 데이터 경로 (전처리된 데이터 사용)\n",
        "train_dir = \"/content/drive/MyDrive/Jellyfish/Jellyfish_Processed/Train/\"\n",
        "valid_dir = \"/content/drive/MyDrive/Jellyfish/Jellyfish_Processed/valid/\"\n",
        "test_dir = \"/content/drive/MyDrive/Jellyfish/Jellyfish_Processed/test/\"\n",
        "\n",
        "# ✅ Train 데이터 증강 적용\n",
        "train_datagen = ImageDataGenerator(\n",
        "    rescale=1./255,  # 정규화 (0~1 범위)\n",
        "    rotation_range=20,  # 랜덤 회전 (최대 ±20도)\n",
        "    width_shift_range=0.2,  # 가로 이동 (최대 20%)\n",
        "    height_shift_range=0.2,  # 세로 이동 (최대 20%)\n",
        "    shear_range=0.2,  # 기울기 변환\n",
        "    zoom_range=0.2,  # 확대/축소 변환 (최대 ±20%)\n",
        "    horizontal_flip=True,  # 좌우 반전\n",
        "    fill_mode=\"nearest\"  # 빈 영역 보정 방식\n",
        ")\n",
        "\n",
        "# ✅ Validation & Test 데이터는 증강 없이 정규화만 적용\n",
        "valid_datagen = ImageDataGenerator(rescale=1./255)\n",
        "test_datagen = ImageDataGenerator(rescale=1./255)\n",
        "\n",
        "# ✅ 데이터 로드\n",
        "batch_size = 16  # 배치 크기 설정\n",
        "\n",
        "train_generator = train_datagen.flow_from_directory(\n",
        "    train_dir,\n",
        "    target_size=(224, 224),\n",
        "    batch_size=batch_size,\n",
        "    class_mode=\"categorical\"\n",
        ")\n",
        "\n",
        "valid_generator = valid_datagen.flow_from_directory(\n",
        "    valid_dir,\n",
        "    target_size=(224, 224),\n",
        "    batch_size=batch_size,\n",
        "    class_mode=\"categorical\"\n",
        ")\n",
        "\n",
        "test_generator = test_datagen.flow_from_directory(\n",
        "    test_dir,\n",
        "    target_size=(224, 224),\n",
        "    batch_size=batch_size,\n",
        "    class_mode=\"categorical\"\n",
        ")\n",
        "\n",
        "# ✅ 클래스 이름 확인\n",
        "print(\"✅ 클래스 이름:\", train_generator.class_indices)"
      ],
      "metadata": {
        "colab": {
          "base_uri": "https://localhost:8080/"
        },
        "id": "J3C4ZVvwNBFs",
        "outputId": "7830f8fe-3e40-4898-acd7-8cb67e165703"
      },
      "execution_count": null,
      "outputs": [
        {
          "output_type": "stream",
          "name": "stdout",
          "text": [
            "Found 900 images belonging to 6 classes.\n",
            "Found 39 images belonging to 6 classes.\n",
            "Found 40 images belonging to 6 classes.\n",
            "✅ 클래스 이름: {'Moon_jellyfish': 0, 'barrel_jellyfish': 1, 'blue_jellyfish': 2, 'compass_jellyfish': 3, 'lions_mane_jellyfish': 4, 'mauve_stinger_jellyfish': 5}\n"
          ]
        }
      ]
    },
    {
      "cell_type": "code",
      "source": [
        "from tensorflow.keras import layers, models\n",
        "\n",
        "# ✅ VGG16 모델 정의\n",
        "def build_vgg16(input_shape=(224, 224, 3), num_classes=6):\n",
        "    model = models.Sequential()\n",
        "\n",
        "    # Conv Block 1\n",
        "    model.add(layers.Conv2D(64, (3, 3), activation='relu', padding='same', input_shape=input_shape))\n",
        "    model.add(layers.Conv2D(64, (3, 3), activation='relu', padding='same'))\n",
        "    model.add(layers.MaxPooling2D((2, 2), strides=2))\n",
        "\n",
        "    # Conv Block 2\n",
        "    model.add(layers.Conv2D(128, (3, 3), activation='relu', padding='same'))\n",
        "    model.add(layers.Conv2D(128, (3, 3), activation='relu', padding='same'))\n",
        "    model.add(layers.MaxPooling2D((2, 2), strides=2))\n",
        "\n",
        "    # Conv Block 3\n",
        "    model.add(layers.Conv2D(256, (3, 3), activation='relu', padding='same'))\n",
        "    model.add(layers.Conv2D(256, (3, 3), activation='relu', padding='same'))\n",
        "    model.add(layers.Conv2D(256, (3, 3), activation='relu', padding='same'))\n",
        "    model.add(layers.MaxPooling2D((2, 2), strides=2))\n",
        "\n",
        "    # Conv Block 4\n",
        "    model.add(layers.Conv2D(512, (3, 3), activation='relu', padding='same'))\n",
        "    model.add(layers.Conv2D(512, (3, 3), activation='relu', padding='same'))\n",
        "    model.add(layers.Conv2D(512, (3, 3), activation='relu', padding='same'))\n",
        "    model.add(layers.MaxPooling2D((2, 2), strides=2))\n",
        "\n",
        "    # Conv Block 5\n",
        "    model.add(layers.Conv2D(512, (3, 3), activation='relu', padding='same'))\n",
        "    model.add(layers.Conv2D(512, (3, 3), activation='relu', padding='same'))\n",
        "    model.add(layers.Conv2D(512, (3, 3), activation='relu', padding='same'))\n",
        "    model.add(layers.MaxPooling2D((2, 2), strides=2))\n",
        "\n",
        "    # Fully Connected Layers\n",
        "    model.add(layers.Flatten())\n",
        "    model.add(layers.Dense(4096, activation='relu'))\n",
        "    model.add(layers.Dense(4096, activation='relu'))\n",
        "    model.add(layers.Dense(num_classes, activation='softmax'))  # 6개 클래스 분류\n",
        "\n",
        "    return model"
      ],
      "metadata": {
        "id": "0qVSmjNlRInL"
      },
      "execution_count": null,
      "outputs": []
    },
    {
      "cell_type": "code",
      "source": [
        "import tensorflow as tf\n",
        "from tensorflow.keras.callbacks import LearningRateScheduler, TensorBoard\n",
        "import os\n",
        "import datetime\n",
        "\n",
        "# ✅ Step Decay 함수 정의\n",
        "def step_decay(epoch):\n",
        "    initial_lrate = 0.001  # 초기 학습률\n",
        "    drop = 0.5  # 감소 비율 (50%)\n",
        "    epochs_drop = 20  # 20 에폭마다 감소\n",
        "    lrate = initial_lrate * (drop ** (epoch // epochs_drop))\n",
        "    return lrate\n",
        "\n",
        "# ✅ Step Decay가 정상적으로 작동하는지 확인\n",
        "print(\"📌 Step Decay 학습률 변화 확인:\")\n",
        "for epoch in range(0, 121, 20):  # 0, 20, 40, 60, 80, 100, 120\n",
        "    print(f\"Epoch {epoch}: Learning Rate = {step_decay(epoch):.6f}\")\n",
        "\n",
        "# ✅ Step Decay 적용 (Callback 설정)\n",
        "lr_callback = LearningRateScheduler(step_decay)\n",
        "\n",
        "# ✅ TensorBoard 로그 저장 경로 설정\n",
        "log_dir = os.path.join(\"logs\", \"fit\", datetime.datetime.now().strftime(\"%Y%m%d-%H%M%S\"))\n",
        "tensorboard_callback = TensorBoard(log_dir=log_dir, histogram_freq=1)\n",
        "\n",
        "# ✅ 기존에 정의된 VGG16 모델 사용\n",
        "vgg16_model = build_vgg16()\n",
        "\n",
        "# 모델 컴파일\n",
        "vgg16_model.compile(\n",
        "    optimizer=tf.keras.optimizers.Adam(learning_rate=0.001),  # 초기 학습률 설정\n",
        "    loss='categorical_crossentropy',\n",
        "    metrics=['accuracy']\n",
        ")\n",
        "\n",
        "# ✅ 모델 학습 (120 에폭)\n",
        "history = vgg16_model.fit(\n",
        "    train_generator,\n",
        "    epochs=120,  # 120 에폭 학습\n",
        "    validation_data=valid_generator,\n",
        "    callbacks=[lr_callback, tensorboard_callback]  # ✅ Step Decay + TensorBoard 적용\n",
        ")\n",
        "\n",
        "# ✅ 학습 후 test 데이터 평가 진행\n",
        "test_loss, test_acc = vgg16_model.evaluate(test_generator)\n",
        "print(f\"🧪 Test Accuracy: {test_acc:.4f}\")"
      ],
      "metadata": {
        "colab": {
          "base_uri": "https://localhost:8080/"
        },
        "id": "d9qAvTliNEpG",
        "outputId": "ad88d613-ea2e-45a8-86d6-20d6b0977b67"
      },
      "execution_count": null,
      "outputs": [
        {
          "output_type": "stream",
          "name": "stdout",
          "text": [
            "📌 Step Decay 학습률 변화 확인:\n",
            "Epoch 0: Learning Rate = 0.001000\n",
            "Epoch 20: Learning Rate = 0.000500\n",
            "Epoch 40: Learning Rate = 0.000250\n",
            "Epoch 60: Learning Rate = 0.000125\n",
            "Epoch 80: Learning Rate = 0.000063\n",
            "Epoch 100: Learning Rate = 0.000031\n",
            "Epoch 120: Learning Rate = 0.000016\n"
          ]
        },
        {
          "output_type": "stream",
          "name": "stderr",
          "text": [
            "/usr/local/lib/python3.11/dist-packages/keras/src/layers/convolutional/base_conv.py:107: UserWarning: Do not pass an `input_shape`/`input_dim` argument to a layer. When using Sequential models, prefer using an `Input(shape)` object as the first layer in the model instead.\n",
            "  super().__init__(activity_regularizer=activity_regularizer, **kwargs)\n",
            "/usr/local/lib/python3.11/dist-packages/keras/src/trainers/data_adapters/py_dataset_adapter.py:121: UserWarning: Your `PyDataset` class should call `super().__init__(**kwargs)` in its constructor. `**kwargs` can include `workers`, `use_multiprocessing`, `max_queue_size`. Do not pass these arguments to `fit()`, as they will be ignored.\n",
            "  self._warn_if_super_not_called()\n"
          ]
        },
        {
          "output_type": "stream",
          "name": "stdout",
          "text": [
            "Epoch 1/120\n",
            "\u001b[1m57/57\u001b[0m \u001b[32m━━━━━━━━━━━━━━━━━━━━\u001b[0m\u001b[37m\u001b[0m \u001b[1m0s\u001b[0m 500ms/step - accuracy: 0.1425 - loss: 2.6012"
          ]
        }
      ]
    }
  ]
}