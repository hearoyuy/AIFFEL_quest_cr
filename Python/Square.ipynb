{
  "nbformat": 4,
  "nbformat_minor": 0,
  "metadata": {
    "colab": {
      "provenance": [],
      "authorship_tag": "ABX9TyMV1k3J0UoKEEITuP45fLQH",
      "include_colab_link": true
    },
    "kernelspec": {
      "name": "python3",
      "display_name": "Python 3"
    },
    "language_info": {
      "name": "python"
    }
  },
  "cells": [
    {
      "cell_type": "markdown",
      "metadata": {
        "id": "view-in-github",
        "colab_type": "text"
      },
      "source": [
        "<a href=\"https://colab.research.google.com/github/hearoyuy/AIFFEL_quest_cr/blob/master/Python/Square.ipynb\" target=\"_parent\"><img src=\"https://colab.research.google.com/assets/colab-badge.svg\" alt=\"Open In Colab\"/></a>"
      ]
    },
    {
      "cell_type": "code",
      "source": [
        "# 사각형 넓이를 구하는 클래스 완성!\n",
        "class Square:\n",
        "    def __init__(self):\n",
        "        self.square = int(input('넓이를 구하고 싶은 사각형의 숫자를 써주세요.\\n 1.직사각형 2.평행사변형 3.사다리꼴 \\n >>>'))\n",
        "\n",
        "        if self.square == 1:\n",
        "            print('직사각형 함수는 rect()입니다.')\n",
        "            a.rect()\n",
        "        elif self.square == 2:\n",
        "            print('평행사변형 함수는 par()입니다.')\n",
        "            a.par()\n",
        "        elif self.square == 3:\n",
        "            print('사다리꼴 함수는 trape()입니다.')\n",
        "            a.trape()\n",
        "        else:\n",
        "            print('1, 2, 3 중에서 다시 입력해주세요')\n",
        "\n",
        "    def rect(self):\n",
        "        width, vertical = map(int, input('가로, 세로를 입력하세요. 예시 : 가로,세로\\n >>>').split(','))\n",
        "        area = width * vertical\n",
        "        result = print('직사각형의 넓이는 : ' + str(area))\n",
        "        return result\n",
        "\n",
        "    def par(self):\n",
        "        bottom, height = map(int,input('밑변, 높이를 입력하세요. 예시 : 밑편,높이\\n >>>').split(','))\n",
        "        area = bottom * height\n",
        "        result = print('평행사변형의 넓이는 : ' + str(area))\n",
        "        return result\n",
        "\n",
        "    def trape(self):\n",
        "        bottom, top, height = map(int,input('밑변, 윗변, 높이를 입력하세요. 예시 : 밑편,윗변,높이\\n >>>').split(','))\n",
        "        area = (bottom + top) * height / 2\n",
        "        result = print('사다리꼴의 넓이는 : ' + str(area))\n",
        "        return result\n",
        "\n",
        "a = Square()  # 객체 생성 & 2, 3을 각각 입력해 봅시다.\n"
      ],
      "metadata": {
        "colab": {
          "base_uri": "https://localhost:8080/"
        },
        "id": "CZWJ_hcfRVTF",
        "outputId": "b7d4d4aa-5953-48e2-8831-f23842d6dbde"
      },
      "execution_count": 18,
      "outputs": [
        {
          "output_type": "stream",
          "name": "stdout",
          "text": [
            "넓이를 구하고 싶은 사각형의 숫자를 써주세요.\n",
            " 1.직사각형 2.평행사변형 3.사다리꼴 \n",
            " >>>3\n",
            "사다리꼴 함수는 trape()입니다.\n",
            "밑변, 윗변, 높이를 입력하세요. 예시 : 밑편,윗변,높이\n",
            " >>>3,2,1\n",
            "사다리꼴의 넓이는 : 2.5\n"
          ]
        }
      ]
    }
  ]
}