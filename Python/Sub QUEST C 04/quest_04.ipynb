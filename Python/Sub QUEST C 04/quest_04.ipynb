{
  "nbformat": 4,
  "nbformat_minor": 0,
  "metadata": {
    "colab": {
      "provenance": [],
      "include_colab_link": true
    },
    "kernelspec": {
      "name": "python3",
      "display_name": "Python 3"
    },
    "language_info": {
      "name": "python"
    }
  },
  "cells": [
    {
      "cell_type": "markdown",
      "metadata": {
        "id": "view-in-github",
        "colab_type": "text"
      },
      "source": [
        "<a href=\"https://colab.research.google.com/github/hearoyuy/AIFFEL_quest_cr/blob/master/Python/Sub%20QUEST%20C%2004/quest_04.ipynb\" target=\"_parent\"><img src=\"https://colab.research.google.com/assets/colab-badge.svg\" alt=\"Open In Colab\"/></a>"
      ]
    },
    {
      "cell_type": "markdown",
      "source": [
        "[QUEST 04] 파이썬을 사용하여 간단한 계산기 프로그램 만들기"
      ],
      "metadata": {
        "id": "YV6kyO0iKEKX"
      }
    },
    {
      "cell_type": "code",
      "source": [
        "import math #계산을 위해 math 모듈 임포트\n",
        "\n",
        "# 정수를 재대로 입력 받는지 확인\n",
        "def get_val(text):\n",
        "    while True:\n",
        "        try:\n",
        "            return int(input(text))\n",
        "        except ValueError:     # 정수가 아닌경우 오류 메시지 출력\n",
        "            print(\"잘못된 입력입니다. 정수를 입력해주세요.\")\n",
        "\n",
        "# 계산 함수\n",
        "def calc():\n",
        "\n",
        "    while True:\n",
        "        num1 = get_val(\"첫 번째 숫자를 입력하세요: \")                   # 원하는 값 입력 받기 1\n",
        "\n",
        "        operator = input(\"연산자를 입력하세요 (+, -, *, /, **): \")      # 원하는 연산자 입력 받기\n",
        "\n",
        "        num2 = get_val(\"두 번째 숫자를 입력하세요: \")                   # 원하는 값 입력 받기 2\n",
        "\n",
        "        try:                                                            # 입력한 연산자에 맞춰 계산 하기\n",
        "\n",
        "            # if (operator == \"+\"){                                     # 오류\n",
        "            #     result = num1 + num2                                  # 습관적으로 java 코드 입력...\n",
        "            # } else if(operator == \"-\"  ) {}\n",
        "\n",
        "            if operator == \"+\":                                         # 입력한 연산자가 +(더하기) 일경우\n",
        "                result = num1 + num2\n",
        "            elif operator == \"-\":                                       # 입력한 연산자가 -(뺴기) 일경우\n",
        "                result = num1 - num2\n",
        "            elif operator == \"*\":                                       # 입력한 연산자가 *(곱하기) 일경우\n",
        "                result = num1 * num2\n",
        "            elif operator == \"/\":                                       # 입력한 연산자가 /(나누기) 일경우\n",
        "                if num2 == 0:\n",
        "                    raise ZeroDivisionError(\"0으로 나눌 수 없습니다.\")  # 0으로 나눌 경우에는 불가능 예외 처리\n",
        "                result = num1 / num2\n",
        "            elif operator == \"**\":                                      # 입력한 연산자가 **(제곱) 일경우\n",
        "                # 제곱 연산\n",
        "                result = math.pow(num1, num2)\n",
        "            else:\n",
        "                raise ValueError(\"지원하지 않는 연산자입니다.\")         # 입력한 연산자가 해당사항이 아닐 경우\n",
        "            print(f\"결과: {result}\")\n",
        "\n",
        "        except ZeroDivisionError as e:\n",
        "            print(e)\n",
        "        except ValueError as e:\n",
        "            print(e)\n",
        "\n",
        "        while True:                                                     # 추가로 계산할지 확인\n",
        "            continue_calculation = input(\"계속 계산하시겠습니까? (y/n): \").lower()\n",
        "            if continue_calculation == \"y\":\n",
        "                break\n",
        "            elif continue_calculation == \"n\":\n",
        "                print(\"계산기를 종료합니다.\")\n",
        "                return\n",
        "            else:\n",
        "                print(\"잘못된 입력입니다. 'y' 또는 'n' 만 입력해주세요.\")\n",
        "\n",
        "calc()                                                                  # 계산기 함수 호출\n"
      ],
      "metadata": {
        "id": "IAxgPjiyKL6r",
        "colab": {
          "base_uri": "https://localhost:8080/"
        },
        "outputId": "45024da6-5d71-4bb4-cec8-812c898eef39"
      },
      "execution_count": 4,
      "outputs": [
        {
          "output_type": "stream",
          "name": "stdout",
          "text": [
            "첫 번째 숫자를 입력하세요: 3\n",
            "연산자를 입력하세요 (+, -, *, /, **): **\n",
            "두 번째 숫자를 입력하세요: 27\n",
            "결과: 7625597484987.0\n",
            "계속 계산하시겠습니까? (y/n): ㅛ\n",
            "잘못된 입력입니다. 'y' 또는 'n' 만 입력해주세요.\n",
            "계속 계산하시겠습니까? (y/n): ㄹ\n",
            "잘못된 입력입니다. 'y' 또는 'n' 만 입력해주세요.\n",
            "계속 계산하시겠습니까? (y/n): y\n",
            "첫 번째 숫자를 입력하세요: d\n",
            "잘못된 입력입니다. 정수를 입력해주세요.\n",
            "첫 번째 숫자를 입력하세요: 3\n",
            "연산자를 입력하세요 (+, -, *, /, **): **\n",
            "두 번째 숫자를 입력하세요: 3\n",
            "결과: 27.0\n",
            "계속 계산하시겠습니까? (y/n): y\n",
            "첫 번째 숫자를 입력하세요: 3\n",
            "연산자를 입력하세요 (+, -, *, /, **): //\n",
            "두 번째 숫자를 입력하세요: 4\n",
            "지원하지 않는 연산자입니다.\n",
            "계속 계산하시겠습니까? (y/n): n\n",
            "계산기를 종료합니다.\n"
          ]
        }
      ]
    },
    {
      "cell_type": "code",
      "source": [],
      "metadata": {
        "id": "NkXfvzRJVnld"
      },
      "execution_count": null,
      "outputs": []
    },
    {
      "cell_type": "markdown",
      "source": [
        "회고 = 자꾸 java로 하려해서 중간중간 자바코드를 파이썬으로 바꾸던가 파이썬은 어떻게 표현할지 자주 찾아보았다 마지막 추가 계산은 모르겠어서 결국 구글링과 gpt의 도움을 받았는데 파이썬 라이브러리를 좀더 공부 해야할듯\n",
        "\n",
        "\n",
        "강민성 : 마지막에 계속 계산할지 여부를 묻는 코드를 짜는게 정말 어려웠습니다. 기초를 더 공부해야겠습니다..."
      ],
      "metadata": {
        "id": "3wCtGVURRw99"
      }
    }
  ]
}