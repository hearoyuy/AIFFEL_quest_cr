{
  "nbformat": 4,
  "nbformat_minor": 0,
  "metadata": {
    "colab": {
      "provenance": [],
      "include_colab_link": true
    },
    "kernelspec": {
      "name": "python3",
      "display_name": "Python 3"
    },
    "language_info": {
      "name": "python"
    }
  },
  "cells": [
    {
      "cell_type": "markdown",
      "metadata": {
        "id": "view-in-github",
        "colab_type": "text"
      },
      "source": [
        "<a href=\"https://colab.research.google.com/github/hearoyuy/AIFFEL_quest_cr/blob/master/Chart_Journeys.ipynb\" target=\"_parent\"><img src=\"https://colab.research.google.com/assets/colab-badge.svg\" alt=\"Open In Colab\"/></a>"
      ]
    },
    {
      "cell_type": "markdown",
      "source": [
        "#차트 여정단\n",
        "팀원: 백승호, 최창윤, 김민상  \n",
        "  \n",
        "1. 차트 여정단 프로젝트\n",
        "    *   목표: 여행하고 싶은 지역의 에어비엔비 숙소들을 비교하여 점수를 매겨 우리가 직접 추천해주는 프로그램\n",
        "    *   결과: 여행 목적지와 1박에 사용할수 있는 금액을 입력받아 조건에 맞는 에어비엔비 방중에서 점수가 높은순으로 10개를 출력함\n",
        "\n",
        "2. 데이터 세트\n",
        "    * 데이터는 110개의 도시(나라)와 각각의 도시의 listings.csv, calendar.csv, \treviews.csv파일 이렇게 3개가 존재한다.\n",
        "    * listings파일은 현재 도시의 전체적인 데이터(예: 숙소의 세부정보, 호스트의 세부정보, 리뷰의 점수, 가격 등)가 존재하여 가장 중요하고 많은 정보가 있다.\n",
        "    * calendar파일은 숙소들이 예약이 가능한지를 보여주는 데이터가 있다.\n",
        "    * reviews파일은 도시에 존재하는 모든 숙소들의 리뷰가 있는 데이터이다\n",
        "    * 우리의 목적에 따라 listings파일중 필요한 데이터만 뽑아 쓰기로 결정했다.\n",
        "\n",
        "3. 변수 분석\n",
        "    * Listings 는 가격 포함 총 75개의 변수로 구성됨\n",
        "    * 필요에 따라 데이터를 뽑아쓰기 위해 오리지널 데이터를 만들고 각각의 작업하는 목적에 따라 stay_rating, display_price, draw_map으로 3개로 나눠 각각의 필요한 데이터를 불러온다\n",
        "    * stay_rating은 우리가 각각의 숙소에 점수를 매기기 위해 점수에 영향을주는 컬럼(id, host_response_time, host_response_rate, host_identity_verified, bathrooms, bedrooms, amenities, review_scores_rating, review_scores_accuracy, review_scores_cleanliness, review_scores_communication, review_scores_location, review_scores_value)을 사용한다.\n",
        "    * display_price는 stay_rating에서 매긴 점수에 따라 상위 10개의 숙소를 보여주기 위해 필요한 컬럼(id, name, price, listing_url)을 사용한다\n",
        "    * draw_map은 우리가 뽑은 숙소를 지도에서 보여주기위해 만들었기 때문에\n",
        "    필요한 컬럼(id, chart_rating, listing_url, latitude, longitude, name)을 사용한다.\n",
        "\n",
        "4. 코드\n",
        "    1. 우리가 여행을 갈 목적지와 1박에 사용가능한 최대 금액을 입력받는다.\n",
        "    2. 여행을 갈 지역의 데이터를 불러온다.\n",
        "    3. 과정들에 필요한 데이터들을 따로 저장하고 만들어둔다.\n",
        "    4. stay_rating과정을 시작하고 결측치들은 0으로 추가한다.\n",
        "    5. 데이터가 많기 때문에 이상치가있으면 전부 제거\n",
        "    6. stay_rating에 chart_rating칼럼 추가\n",
        "    7. chart_rating칼럼에 각각의 기준에 따라 점수를 조금씩 추가한다.\n",
        "    8. 만들어둔 display_price에 chart_rating컬럼을 붙여넣는다.\n",
        "    9. price컬럼을 숫자형으로 바꿔준다.\n",
        "    10. 입력된 1박에 사용할수 있는 금액보다 비싼 숙소들은 제외시킨다.\n",
        "    11. 사용자에게 조건에 만족하는 숙소중 점수가 높은 10개의 숙소를 주요정보와 보여준다.\n",
        "    12. 10개의 숙소를 지도에 아이콘으로 하여 보여준다.\n",
        "\n",
        "\n",
        "\n"
      ],
      "metadata": {
        "id": "ODeo_3kQOT2q"
      }
    },
    {
      "cell_type": "code",
      "source": [
        "from google.colab import drive\n",
        "drive.mount('/content/drive')"
      ],
      "metadata": {
        "id": "hND7wu5d2tQQ",
        "colab": {
          "base_uri": "https://localhost:8080/",
          "height": 304
        },
        "outputId": "610ac933-04bf-4aab-9ee5-eacc970d7752"
      },
      "execution_count": null,
      "outputs": [
        {
          "output_type": "error",
          "ename": "MessageError",
          "evalue": "Error: credential propagation was unsuccessful",
          "traceback": [
            "\u001b[0;31m---------------------------------------------------------------------------\u001b[0m",
            "\u001b[0;31mMessageError\u001b[0m                              Traceback (most recent call last)",
            "\u001b[0;32m<ipython-input-3-d5df0069828e>\u001b[0m in \u001b[0;36m<cell line: 2>\u001b[0;34m()\u001b[0m\n\u001b[1;32m      1\u001b[0m \u001b[0;32mfrom\u001b[0m \u001b[0mgoogle\u001b[0m\u001b[0;34m.\u001b[0m\u001b[0mcolab\u001b[0m \u001b[0;32mimport\u001b[0m \u001b[0mdrive\u001b[0m\u001b[0;34m\u001b[0m\u001b[0;34m\u001b[0m\u001b[0m\n\u001b[0;32m----> 2\u001b[0;31m \u001b[0mdrive\u001b[0m\u001b[0;34m.\u001b[0m\u001b[0mmount\u001b[0m\u001b[0;34m(\u001b[0m\u001b[0;34m'/content/drive'\u001b[0m\u001b[0;34m)\u001b[0m\u001b[0;34m\u001b[0m\u001b[0;34m\u001b[0m\u001b[0m\n\u001b[0m",
            "\u001b[0;32m/usr/local/lib/python3.10/dist-packages/google/colab/drive.py\u001b[0m in \u001b[0;36mmount\u001b[0;34m(mountpoint, force_remount, timeout_ms, readonly)\u001b[0m\n\u001b[1;32m     98\u001b[0m \u001b[0;32mdef\u001b[0m \u001b[0mmount\u001b[0m\u001b[0;34m(\u001b[0m\u001b[0mmountpoint\u001b[0m\u001b[0;34m,\u001b[0m \u001b[0mforce_remount\u001b[0m\u001b[0;34m=\u001b[0m\u001b[0;32mFalse\u001b[0m\u001b[0;34m,\u001b[0m \u001b[0mtimeout_ms\u001b[0m\u001b[0;34m=\u001b[0m\u001b[0;36m120000\u001b[0m\u001b[0;34m,\u001b[0m \u001b[0mreadonly\u001b[0m\u001b[0;34m=\u001b[0m\u001b[0;32mFalse\u001b[0m\u001b[0;34m)\u001b[0m\u001b[0;34m:\u001b[0m\u001b[0;34m\u001b[0m\u001b[0;34m\u001b[0m\u001b[0m\n\u001b[1;32m     99\u001b[0m   \u001b[0;34m\"\"\"Mount your Google Drive at the specified mountpoint path.\"\"\"\u001b[0m\u001b[0;34m\u001b[0m\u001b[0;34m\u001b[0m\u001b[0m\n\u001b[0;32m--> 100\u001b[0;31m   return _mount(\n\u001b[0m\u001b[1;32m    101\u001b[0m       \u001b[0mmountpoint\u001b[0m\u001b[0;34m,\u001b[0m\u001b[0;34m\u001b[0m\u001b[0;34m\u001b[0m\u001b[0m\n\u001b[1;32m    102\u001b[0m       \u001b[0mforce_remount\u001b[0m\u001b[0;34m=\u001b[0m\u001b[0mforce_remount\u001b[0m\u001b[0;34m,\u001b[0m\u001b[0;34m\u001b[0m\u001b[0;34m\u001b[0m\u001b[0m\n",
            "\u001b[0;32m/usr/local/lib/python3.10/dist-packages/google/colab/drive.py\u001b[0m in \u001b[0;36m_mount\u001b[0;34m(mountpoint, force_remount, timeout_ms, ephemeral, readonly)\u001b[0m\n\u001b[1;32m    135\u001b[0m   )\n\u001b[1;32m    136\u001b[0m   \u001b[0;32mif\u001b[0m \u001b[0mephemeral\u001b[0m\u001b[0;34m:\u001b[0m\u001b[0;34m\u001b[0m\u001b[0;34m\u001b[0m\u001b[0m\n\u001b[0;32m--> 137\u001b[0;31m     _message.blocking_request(\n\u001b[0m\u001b[1;32m    138\u001b[0m         \u001b[0;34m'request_auth'\u001b[0m\u001b[0;34m,\u001b[0m\u001b[0;34m\u001b[0m\u001b[0;34m\u001b[0m\u001b[0m\n\u001b[1;32m    139\u001b[0m         \u001b[0mrequest\u001b[0m\u001b[0;34m=\u001b[0m\u001b[0;34m{\u001b[0m\u001b[0;34m'authType'\u001b[0m\u001b[0;34m:\u001b[0m \u001b[0;34m'dfs_ephemeral'\u001b[0m\u001b[0;34m}\u001b[0m\u001b[0;34m,\u001b[0m\u001b[0;34m\u001b[0m\u001b[0;34m\u001b[0m\u001b[0m\n",
            "\u001b[0;32m/usr/local/lib/python3.10/dist-packages/google/colab/_message.py\u001b[0m in \u001b[0;36mblocking_request\u001b[0;34m(request_type, request, timeout_sec, parent)\u001b[0m\n\u001b[1;32m    174\u001b[0m       \u001b[0mrequest_type\u001b[0m\u001b[0;34m,\u001b[0m \u001b[0mrequest\u001b[0m\u001b[0;34m,\u001b[0m \u001b[0mparent\u001b[0m\u001b[0;34m=\u001b[0m\u001b[0mparent\u001b[0m\u001b[0;34m,\u001b[0m \u001b[0mexpect_reply\u001b[0m\u001b[0;34m=\u001b[0m\u001b[0;32mTrue\u001b[0m\u001b[0;34m\u001b[0m\u001b[0;34m\u001b[0m\u001b[0m\n\u001b[1;32m    175\u001b[0m   )\n\u001b[0;32m--> 176\u001b[0;31m   \u001b[0;32mreturn\u001b[0m \u001b[0mread_reply_from_input\u001b[0m\u001b[0;34m(\u001b[0m\u001b[0mrequest_id\u001b[0m\u001b[0;34m,\u001b[0m \u001b[0mtimeout_sec\u001b[0m\u001b[0;34m)\u001b[0m\u001b[0;34m\u001b[0m\u001b[0;34m\u001b[0m\u001b[0m\n\u001b[0m",
            "\u001b[0;32m/usr/local/lib/python3.10/dist-packages/google/colab/_message.py\u001b[0m in \u001b[0;36mread_reply_from_input\u001b[0;34m(message_id, timeout_sec)\u001b[0m\n\u001b[1;32m    101\u001b[0m     ):\n\u001b[1;32m    102\u001b[0m       \u001b[0;32mif\u001b[0m \u001b[0;34m'error'\u001b[0m \u001b[0;32min\u001b[0m \u001b[0mreply\u001b[0m\u001b[0;34m:\u001b[0m\u001b[0;34m\u001b[0m\u001b[0;34m\u001b[0m\u001b[0m\n\u001b[0;32m--> 103\u001b[0;31m         \u001b[0;32mraise\u001b[0m \u001b[0mMessageError\u001b[0m\u001b[0;34m(\u001b[0m\u001b[0mreply\u001b[0m\u001b[0;34m[\u001b[0m\u001b[0;34m'error'\u001b[0m\u001b[0;34m]\u001b[0m\u001b[0;34m)\u001b[0m\u001b[0;34m\u001b[0m\u001b[0;34m\u001b[0m\u001b[0m\n\u001b[0m\u001b[1;32m    104\u001b[0m       \u001b[0;32mreturn\u001b[0m \u001b[0mreply\u001b[0m\u001b[0;34m.\u001b[0m\u001b[0mget\u001b[0m\u001b[0;34m(\u001b[0m\u001b[0;34m'data'\u001b[0m\u001b[0;34m,\u001b[0m \u001b[0;32mNone\u001b[0m\u001b[0;34m)\u001b[0m\u001b[0;34m\u001b[0m\u001b[0;34m\u001b[0m\u001b[0m\n\u001b[1;32m    105\u001b[0m \u001b[0;34m\u001b[0m\u001b[0m\n",
            "\u001b[0;31mMessageError\u001b[0m: Error: credential propagation was unsuccessful"
          ]
        }
      ]
    },
    {
      "cell_type": "code",
      "execution_count": null,
      "metadata": {
        "id": "QyrEeCNVqx_h"
      },
      "outputs": [],
      "source": [
        "# 사용할 라이브러리 불러오기\n",
        "import pandas as pd\n",
        "import seaborn as sns\n",
        "import matplotlib.pyplot as plt\n",
        "import os\n",
        "import numpy as np"
      ]
    },
    {
      "cell_type": "code",
      "source": [
        "country = input('검색하고 싶은 도시를 입력하세요 : ')\n",
        "price = int(input('1박에 사용할수있는 금액을 입력하세요(달러) : '))"
      ],
      "metadata": {
        "id": "CIBXxlxLu6rz"
      },
      "execution_count": null,
      "outputs": []
    },
    {
      "cell_type": "code",
      "source": [
        "airbnb = f\"/content/drive/MyDrive/airbnb/{country}_listings.csv\"\n",
        "original_data = pd.read_csv(airbnb)"
      ],
      "metadata": {
        "id": "GJC5_G1ys0QJ"
      },
      "execution_count": null,
      "outputs": []
    },
    {
      "cell_type": "code",
      "source": [
        "#rating변수에 rating에서 사용할 데이터만 저장\n",
        "rating = ['id', 'host_response_time', 'host_response_rate', 'host_identity_verified', 'bathrooms', 'bedrooms', 'amenities', 'review_scores_rating', 'review_scores_accuracy', 'review_scores_cleanliness', 'review_scores_communication', 'review_scores_location', 'review_scores_value']\n",
        "display = ['id', 'name', 'price', 'listing_url']\n",
        "stay_rating = original_data[rating]\n",
        "display_price = original_data[display]"
      ],
      "metadata": {
        "id": "XXlZ2YB1v3LM"
      },
      "execution_count": null,
      "outputs": []
    },
    {
      "cell_type": "code",
      "source": [
        "#stay_rating에서 null값을 0으로 치환\n",
        "stay_rating = stay_rating.fillna(0)"
      ],
      "metadata": {
        "id": "jq-AqbVU7PpY"
      },
      "execution_count": null,
      "outputs": []
    },
    {
      "cell_type": "code",
      "source": [
        "#host_response_time컬럼에서 within a few hours, within an hour, a few days or more, within a day를 제외한 이상치 데이터 제거\n",
        "outliers =  (stay_rating['host_response_time']== 0) | (stay_rating['host_response_time'] == 'within a few hours') | (stay_rating['host_response_time'] == 'within an hour') | (stay_rating['host_response_time'] == 'a few days or more') | (stay_rating['host_response_time'] == 'within a day')\n",
        "\n",
        "stay_rating = stay_rating[outliers]"
      ],
      "metadata": {
        "id": "HijvO5xiwRfx"
      },
      "execution_count": null,
      "outputs": []
    },
    {
      "cell_type": "code",
      "source": [
        "#host_response_rate컬럼에서 %를 제거하고 float형식으로 변환 및 Null값을 0으로 치환\n",
        "stay_rating['host_response_rate'] = stay_rating['host_response_rate'].str.rstrip('%').astype(float)\n",
        "stay_rating['host_response_rate'] = stay_rating['host_response_rate'].fillna(0)"
      ],
      "metadata": {
        "id": "EKoSg9zPPSNl"
      },
      "execution_count": null,
      "outputs": []
    },
    {
      "cell_type": "code",
      "source": [
        "#host_identity_verified컬럼에서 t와 f가 아닌 이상치 제거(0은 Null값 채우는 용)\n",
        "outliers =  (stay_rating['host_identity_verified']=='t') | (stay_rating['host_identity_verified'] == 'f') | (stay_rating['host_identity_verified']== 0)\n",
        "\n",
        "stay_rating = stay_rating[outliers]"
      ],
      "metadata": {
        "id": "AILcZH7iAVVg"
      },
      "execution_count": null,
      "outputs": []
    },
    {
      "cell_type": "code",
      "source": [
        "#ast라이브러리에서 literal_eval불러오기\n",
        "from ast import literal_eval\n",
        "\n",
        "#amenities컬럼을 list형태로 변환\n",
        "stay_rating['amenities'] = stay_rating['amenities'].apply(literal_eval)"
      ],
      "metadata": {
        "id": "66gkIwKuovYL"
      },
      "execution_count": null,
      "outputs": []
    },
    {
      "cell_type": "code",
      "source": [
        "#review_scores_rating칼럼에 5가 넘는 이상치를 제거\n",
        "outliers = (stay_rating['review_scores_rating'] <= 5)\n",
        "\n",
        "stay_rating = stay_rating[outliers]"
      ],
      "metadata": {
        "id": "yut3Kx3nAcrQ"
      },
      "execution_count": null,
      "outputs": []
    },
    {
      "cell_type": "code",
      "source": [
        "#review_scores_accuracy칼럼에 5가 넘는 이상치를 제거\n",
        "outliers = (stay_rating['review_scores_accuracy'] <= 5)\n",
        "\n",
        "stay_rating = stay_rating[outliers]"
      ],
      "metadata": {
        "id": "oDIxcIwrApGW"
      },
      "execution_count": null,
      "outputs": []
    },
    {
      "cell_type": "code",
      "source": [
        "#review_scores_cleanliness칼럼에 5가 넘는 이상치를 제거\n",
        "outliers = (stay_rating['review_scores_cleanliness'] <= 5)\n",
        "\n",
        "stay_rating = stay_rating[outliers]"
      ],
      "metadata": {
        "id": "V6J2y9iIBSdR"
      },
      "execution_count": null,
      "outputs": []
    },
    {
      "cell_type": "code",
      "source": [
        "#review_scores_communication칼럼에 5가 넘는 이상치를 제거\n",
        "outliers = (stay_rating['review_scores_communication'] <= 5)\n",
        "\n",
        "stay_rating = stay_rating[outliers]"
      ],
      "metadata": {
        "id": "eUcaTLZiBZ4K"
      },
      "execution_count": null,
      "outputs": []
    },
    {
      "cell_type": "code",
      "source": [
        "#review_scores_location칼럼에 5가 넘는 이상치를 제거\n",
        "outliers = (stay_rating['review_scores_location'] <= 5)\n",
        "\n",
        "stay_rating = stay_rating[outliers]"
      ],
      "metadata": {
        "id": "pf06RfEJBhIS"
      },
      "execution_count": null,
      "outputs": []
    },
    {
      "cell_type": "code",
      "source": [
        "#review_scores_value칼럼에 5가 넘는 이상치를 제거\n",
        "outliers = (stay_rating['review_scores_value'] <= 5)\n",
        "\n",
        "stay_rating = stay_rating[outliers]"
      ],
      "metadata": {
        "id": "pGaA_8WkBjqV"
      },
      "execution_count": null,
      "outputs": []
    },
    {
      "cell_type": "code",
      "source": [
        "#stay_rating에 chart_rating칼럼 추가\n",
        "stay_rating['chart_rating'] = 0"
      ],
      "metadata": {
        "id": "BMOE8LV3Ka_B"
      },
      "execution_count": null,
      "outputs": []
    },
    {
      "cell_type": "code",
      "source": [
        "#host_response_time에 within an hour면 0.3점, within a few hours면 0.2점, within a day면 0.1점 나머지 값은 0점을 chart_rating에 추가한다.\n",
        "conditions = [\n",
        "    stay_rating['host_response_time'] == \"within a day\",\n",
        "    stay_rating['host_response_time'] == \"within a few hours\",\n",
        "    stay_rating['host_response_time'] == \"within an hour\"\n",
        "]\n",
        "values = [0.1, 0.2, 0.3]\n",
        "\n",
        "stay_rating['chart_rating'] += np.select(conditions, values, default=0)"
      ],
      "metadata": {
        "id": "f64hlWCPBnhQ"
      },
      "execution_count": null,
      "outputs": []
    },
    {
      "cell_type": "code",
      "source": [
        "#host_response_rate가 100%면 0.2점 40%미만이면 0점 40%~99%면 0.1점을chart_rating에 추가\n",
        "conditions = [\n",
        "    stay_rating['host_response_rate'] == 100,\n",
        "    stay_rating['host_response_rate'] < 40\n",
        "]\n",
        "values = [0.2, 0]\n",
        "\n",
        "stay_rating['chart_rating'] += np.select(conditions, values, default=0.1)"
      ],
      "metadata": {
        "id": "xAV1iBgjKY70"
      },
      "execution_count": null,
      "outputs": []
    },
    {
      "cell_type": "code",
      "source": [
        "#host_identity_verified(호스트 인증)이 되어있으면 0.5점을 chart_rating에 점수 추가\n",
        "conditions = [\n",
        "    stay_rating['host_identity_verified'] == 't',\n",
        "    stay_rating['host_identity_verified'] == 'f'\n",
        "]\n",
        "values = [1, 0]\n",
        "\n",
        "stay_rating['chart_rating'] += np.select(conditions, values, default=0)"
      ],
      "metadata": {
        "id": "fdwXi1RXRZnk"
      },
      "execution_count": null,
      "outputs": []
    },
    {
      "cell_type": "code",
      "source": [
        "#bathrooms의 개수가 0개면 0점, 1개면 1점 1개 이상이면 1.2점을 chart_rating에 점수 추가\n",
        "conditions = [\n",
        "    stay_rating['bathrooms'] == 0,\n",
        "    stay_rating['bathrooms'] == 1\n",
        "]\n",
        "values = [0, 1]\n",
        "\n",
        "stay_rating['chart_rating'] += np.select(conditions, values, default=1.2)"
      ],
      "metadata": {
        "id": "omkT92VmRgNV"
      },
      "execution_count": null,
      "outputs": []
    },
    {
      "cell_type": "code",
      "source": [
        "#bedrooms의 개수가 0개면 0점, 1개면 1점 1개 이상이면 1.2점을 chart_rating에 점수 추가\n",
        "conditions = [\n",
        "    stay_rating['bedrooms'] == 0,\n",
        "    stay_rating['bedrooms'] == 1\n",
        "]\n",
        "values = [0, 1]\n",
        "\n",
        "stay_rating['chart_rating'] += np.select(conditions, values, default=1.2)"
      ],
      "metadata": {
        "id": "uJGKZCGyRvqN"
      },
      "execution_count": null,
      "outputs": []
    },
    {
      "cell_type": "code",
      "source": [
        "#amenities에 있는 편의시설 1개당 0.05점씩 최대 1점을 chart_rating에 점수 추가\n",
        "stay_rating['chart_rating'] += stay_rating['amenities'].str.len().apply(lambda x: 1 if x >= 20 else x / 20)"
      ],
      "metadata": {
        "id": "7CNJHY15SAJC"
      },
      "execution_count": null,
      "outputs": []
    },
    {
      "cell_type": "code",
      "source": [
        "#review_scores_rating점수에 따라 chart_rating에 점수 추가\n",
        "stay_rating['chart_rating'] += stay_rating['review_scores_rating'].apply(lambda x : x/5)"
      ],
      "metadata": {
        "id": "WVSInaU0lDaI"
      },
      "execution_count": null,
      "outputs": []
    },
    {
      "cell_type": "code",
      "source": [
        "#review_scores_accuracy점수에 따라 chart_rating에 점수 추가\n",
        "stay_rating['chart_rating'] += stay_rating['review_scores_accuracy'].apply(lambda x : x/5/5)"
      ],
      "metadata": {
        "id": "BCPv9YqV2PY5"
      },
      "execution_count": null,
      "outputs": []
    },
    {
      "cell_type": "code",
      "source": [
        "#review_scores_cleanliness점수에 따라 chart_rating에 점수 추가\n",
        "stay_rating['chart_rating'] += stay_rating['review_scores_cleanliness'].apply(lambda x : x/5)"
      ],
      "metadata": {
        "id": "CiPPIJfw3Bsh"
      },
      "execution_count": null,
      "outputs": []
    },
    {
      "cell_type": "code",
      "source": [
        "#review_scores_communication점수에 따라 chart_rating에 점수 추가\n",
        "stay_rating['chart_rating'] += stay_rating['review_scores_communication'].apply(lambda x : x/5/2)"
      ],
      "metadata": {
        "id": "_8t1mBEi3YqZ"
      },
      "execution_count": null,
      "outputs": []
    },
    {
      "cell_type": "code",
      "source": [
        "#review_scores_location점수에 따라 chart_rating에 점수 추가\n",
        "stay_rating['chart_rating'] += stay_rating['review_scores_location'].apply(lambda x : x/5*1.2)"
      ],
      "metadata": {
        "id": "-DMPcaRF3fFP"
      },
      "execution_count": null,
      "outputs": []
    },
    {
      "cell_type": "code",
      "source": [
        "#review_scores_value점수에 따라 chart_rating에 점수 추가\n",
        "stay_rating['chart_rating'] += stay_rating['review_scores_value'].apply(lambda x : x/5*1.2)"
      ],
      "metadata": {
        "id": "iocmUAKW3mrj"
      },
      "execution_count": null,
      "outputs": []
    },
    {
      "cell_type": "code",
      "source": [
        "#display_price에 stay_rating에서 만든 chart_rating복사하여 붙이기\n",
        "display_price['chart_rating'] = stay_rating['chart_rating']"
      ],
      "metadata": {
        "id": "vEexxazL3rsh"
      },
      "execution_count": null,
      "outputs": []
    },
    {
      "cell_type": "code",
      "source": [
        "#chart_rating컬럼을 str형식에서 특수문자를 없에고 float형식으로 바꾼다\n",
        "display_price['price'] = display_price['price'].str.replace('[^\\d.]', '', regex=True).astype(float)\n",
        "display_price['price'] = display_price['price'].fillna(0)"
      ],
      "metadata": {
        "id": "a4yCe-Mk8Z9i"
      },
      "execution_count": null,
      "outputs": []
    },
    {
      "cell_type": "code",
      "source": [
        "#display_price에서 사용자가 입력한 금액보다 큰 금액이 필요한 것들 지우기\n",
        "outliers_price = (display_price['price'] < price)\n",
        "display_price = display_price[outliers_price]"
      ],
      "metadata": {
        "id": "jrKagao-PLA9"
      },
      "execution_count": null,
      "outputs": []
    },
    {
      "cell_type": "code",
      "source": [
        "#draw_map에 필요한 데이터를 뽑아서 저장\n",
        "draw_map = display_price[['id', 'chart_rating', 'listing_url']].sort_values('chart_rating', ascending=False).head(10)"
      ],
      "metadata": {
        "id": "4RnLHXQPU5Bj"
      },
      "execution_count": null,
      "outputs": []
    },
    {
      "cell_type": "code",
      "source": [
        "from IPython.display import display, HTML\n",
        "from folium.plugins import MarkerCluster\n",
        "import folium\n",
        "\n",
        "HTML('<style>.output {flex-direction: row;}</style>')\n",
        "\n",
        "geo_display= ['latitude','longitude', 'name']\n",
        "\n",
        "test = draw_map\n",
        "test[['latitude','longitude', 'name']] = original_data[['latitude','longitude', 'name']]\n",
        "\n",
        "latitude = test['latitude'].mean()\n",
        "longitude= test['longitude'].mean()\n",
        "\n",
        "rating_map= folium.Map(location=[latitude, longitude], zoom_start=9)\n",
        "\n",
        "rating_Marker = MarkerCluster().add_to(rating_map)\n",
        "\n",
        "def getcolor(rating) :\n",
        "  if rating >= 9:\n",
        "    return 'red'\n",
        "  elif rating >= 7:\n",
        "    return 'blue'\n",
        "  elif rating >= 5:\n",
        "    return 'green'\n",
        "  else :\n",
        "    return 'yellow'\n",
        "\n",
        "for _, row in test.iterrows():\n",
        "\n",
        "    folium.Marker(\n",
        "        location=[row['latitude'], row['longitude']],\n",
        "        popup=f\"{row['name']} - url: {row['listing_url']}\",\n",
        "        tooltip=row['name'],\n",
        "        icon=folium.Icon(color=getcolor(row['chart_rating']))\n",
        "    ).add_to(rating_map)\n",
        "\n",
        "display(display_price.sort_values('chart_rating', ascending=False).head(10))\n",
        "rating_map"
      ],
      "metadata": {
        "id": "kWRlPDzXKTeE"
      },
      "execution_count": null,
      "outputs": []
    },
    {
      "cell_type": "code",
      "source": [],
      "metadata": {
        "id": "qEHUsW-dOVO6"
      },
      "execution_count": null,
      "outputs": []
    }
  ]
}