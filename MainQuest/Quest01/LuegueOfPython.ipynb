{
  "nbformat": 4,
  "nbformat_minor": 0,
  "metadata": {
    "colab": {
      "provenance": [],
      "authorship_tag": "ABX9TyM9yeYNIug6GkXGdE/PWiMm",
      "include_colab_link": true
    },
    "kernelspec": {
      "name": "python3",
      "display_name": "Python 3"
    },
    "language_info": {
      "name": "python"
    }
  },
  "cells": [
    {
      "cell_type": "markdown",
      "metadata": {
        "id": "view-in-github",
        "colab_type": "text"
      },
      "source": [
        "<a href=\"https://colab.research.google.com/github/hearoyuy/AIFFEL_quest_cr/blob/master/MainQuest/Quest01/LuegueOfPython.ipynb\" target=\"_parent\"><img src=\"https://colab.research.google.com/assets/colab-badge.svg\" alt=\"Open In Colab\"/></a>"
      ]
    },
    {
      "cell_type": "code",
      "execution_count": 35,
      "metadata": {
        "colab": {
          "base_uri": "https://localhost:8080/"
        },
        "id": "AJ4pOrERbfT2",
        "outputId": "25f2a8ae-f3b0-4845-8d9a-8427ef207960"
      },
      "outputs": [
        {
          "output_type": "stream",
          "name": "stdout",
          "text": [
            "일어나세요. 용자여.당신의 이름을 알려주세요.: 카이사\n",
            "야생의 슬라임 과의 전투를 시작합니다.\n",
            "카이사 이 슬라임 에게 25 만큼 공격했다.....!\n",
            "전투 승리!\n",
            "슬라임 을 이겼다!.\n",
            "야생의 고블린 과의 전투를 시작합니다.\n",
            "카이사 이 고블린 에게 19 만큼 공격했다.....!\n",
            "고블린 이 카이사 에게 7 만큼 공격했다.....!\n",
            "카이사 이 고블린 에게 2 만큼 공격했다.....!\n",
            "고블린 이 카이사 에게 10 만큼 공격했다.....!\n",
            "카이사 이 고블린 에게 21 만큼 공격했다.....!\n",
            "고블린 이 카이사 에게 21 만큼 공격했다.....!\n",
            "카이사 이 고블린 에게 20 만큼 공격했다.....!\n",
            "전투 승리!\n",
            "고블린 을 이겼다!.\n",
            "야생의 오크 과의 전투를 시작합니다.\n",
            "카이사 이 오크 에게 20 만큼 공격했다.....!\n",
            "오크 이 카이사 에게 37 만큼 공격했다.....!\n",
            "카이사 이 오크 에게 31 만큼 공격했다.....!\n",
            "오크 이 카이사 에게 27 만큼 공격했다.....!\n",
            "카이사 이 오크 에게 2 만큼 공격했다.....!\n",
            "오크 이 카이사 에게 10 만큼 공격했다.....!\n",
            "카이사 이 오크 에게 8 만큼 공격했다.....!\n",
            "오크 이 카이사 에게 17 만큼 공격했다.....!\n",
            "카이사 이 오크 에게 17 만큼 공격했다.....!\n",
            "오크 이 카이사 에게 14 만큼 공격했다.....!\n",
            "카이사 이 오크 에게 29 만큼 공격했다.....!\n",
            "전투 승리!\n",
            "오크 을 이겼다!.\n",
            "펜 타 킬!!\n"
          ]
        }
      ],
      "source": [
        "import random\n",
        "\n",
        "class Character:\n",
        "    def __init__(self, name, level, health, attack, defense):\n",
        "        self.name = name\n",
        "        self.level = level\n",
        "        self.max_health = health\n",
        "        self.hp = health\n",
        "        self.attack = attack\n",
        "        self.defense = defense\n",
        "\n",
        "    def is_alive(self):\n",
        "        return self.hp > 0\n",
        "\n",
        "    def take_damage(self, damage):\n",
        "        dil = max(0, damage - self.defense)\n",
        "        self.hp = max(0, self.hp - dil)\n",
        "\n",
        "    def attack_target(self, target):\n",
        "        damage = random.randint(1, self.attack)\n",
        "        print(f\"{self.name} 이 {target.name} 에게 {damage} 만큼 공격했다.....!\")\n",
        "        target.take_damage(damage)\n",
        "\n",
        "class Player(Character):\n",
        "    def __init__(self, name):\n",
        "        super().__init__(name, level=1, health=100, attack=25, defense=5)\n",
        "        self.exp = 0\n",
        "\n",
        "    def gain_exp(self, exp):\n",
        "        self.exp += exp\n",
        "        self.level_up()\n",
        "\n",
        "    def level_up(self):\n",
        "        while self.exp >= 50:\n",
        "            self.exp -= 50\n",
        "            self.level += 1\n",
        "            self.attack += 10\n",
        "            self.defense += 5\n",
        "\n",
        "class Monster(Character):\n",
        "    def __init__(self, name, level):\n",
        "        health = random.randint(10, 30) * level\n",
        "        attack = random.randint(5, 20) * level\n",
        "        defense = random.randint(1, 5) * level\n",
        "        super().__init__(name, level, health, attack, defense)\n",
        "\n",
        "def battle(player, monster):\n",
        "    while player.is_alive() and monster.is_alive():\n",
        "        player.attack_target(monster)\n",
        "        if monster.is_alive():\n",
        "            monster.attack_target(player)\n",
        "\n",
        "    if player.is_alive():\n",
        "        exp_gain = monster.level * 20\n",
        "        player.gain_exp(exp_gain)\n",
        "        print(f\"전투 승리!\\n{monster.name} 을 이겼다!.\")\n",
        "    else:\n",
        "        print(\"게임 오버!(허접!)\")\n",
        "        return False\n",
        "    return True\n",
        "\n",
        "def main():\n",
        "    monster_dict = {'슬라임': 1, '고블린': 2, '오크': 3}\n",
        "    player_name = input(\"일어나세요. 용자여.당신의 이름을 알려주세요.: \")\n",
        "    player = Player(player_name)\n",
        "\n",
        "    for monster_name, level in monster_dict.items():\n",
        "        monster = Monster(monster_name, level)\n",
        "        print(f\"야생의 {monster.name} 과의 전투를 시작합니다.\")\n",
        "\n",
        "        if not battle(player, monster):\n",
        "            print(\"Game Over\")\n",
        "            break\n",
        "    else:\n",
        "        print(\"펜 타 킬!!\")\n",
        "\n",
        "\n",
        "main()\n"
      ]
    }
  ]
}